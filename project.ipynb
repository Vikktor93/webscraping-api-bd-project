{
 "cells": [
  {
   "cell_type": "markdown",
   "metadata": {},
   "source": [
    "<div>\n",
    "<img src=\"https://i.ibb.co/v3CvVz9/udd-short.png\" width=\"150\"/>\n",
    "    <br>\n",
    "    <strong>Universidad del Desarrollo</strong><br>\n",
    "    <em>Magíster en Data Science</em><br>\n",
    "    <em>Asignatura Almacenamiento y Captura de Datos</em><br>\n",
    "    <em>Profesor: Carlos Perez </em><br>\n",
    "\n",
    "</div>\n",
    "\n",
    "# **Proyecto: Portal Inmobiliario**\n",
    "\n",
    "*27 de Diciembre de 2024*\n",
    "\n",
    "**Nombre Estudiante(s)**: Joaquin Leiva - Victor Saldivia Vera - Cristian Tobar - Constanza Perez\n",
    "\n",
    "- **Objetivo:** Medir lo que se ha aprendido de base de datos, web scraping y APIs. Para esto se solicita desarrollar\n",
    "un sencillo producto de consulta de inmuebles con sus comercios cercano."
   ]
  },
  {
   "cell_type": "markdown",
   "metadata": {},
   "source": [
    "### **IMPORTACIÓN DE LIBRERÍAS**"
   ]
  },
  {
   "cell_type": "code",
   "execution_count": 38,
   "metadata": {},
   "outputs": [],
   "source": [
    "import sqlite3\n",
    "import time\n",
    "import pandas as pd\n",
    "from selenium import webdriver\n",
    "from selenium.webdriver.common.by import By\n",
    "from selenium.webdriver.common.keys import Keys\n",
    "from selenium.webdriver.support.ui import WebDriverWait\n",
    "from selenium.webdriver.support import expected_conditions as EC"
   ]
  },
  {
   "cell_type": "markdown",
   "metadata": {},
   "source": [
    "### **VARIABLES**"
   ]
  },
  {
   "cell_type": "code",
   "execution_count": 51,
   "metadata": {},
   "outputs": [],
   "source": [
    "api_key = ''\n",
    "op_contrato = 'arriendo'  # opciones: venta, arriendo, arriendo_temporal\n",
    "op_inmueble = 'departamentos'  # opciones: dpto, casa, oficina\n",
    "ubicacion_inmueble = 'las condes'\n",
    "monto_minimo = 500000\n",
    "monto_maximo = 1300000\n",
    "cant_paginas = 2\n",
    "radio_busqueda = '300'\n",
    "busqueda_rubros = ['restaurante', 'supermercado']"
   ]
  },
  {
   "cell_type": "markdown",
   "metadata": {},
   "source": [
    "### **WEBSCRAPING**"
   ]
  },
  {
   "cell_type": "code",
   "execution_count": 52,
   "metadata": {},
   "outputs": [],
   "source": [
    "# Inicializar WebDriver \n",
    "driver = webdriver.Edge()\n",
    "\n",
    "# Navegar al sitio\n",
    "url = \"https://www.portalinmobiliario.com/\"\n",
    "driver.get(url)\n",
    "time.sleep(3)"
   ]
  },
  {
   "cell_type": "code",
   "execution_count": 53,
   "metadata": {},
   "outputs": [],
   "source": [
    "# Interactuar con los filtros\n",
    "try:\n",
    "    # Filtrar por tipo de contrato\n",
    "    contrato_boton = driver.find_element(By.XPATH, \"//button[@aria-label='Tipo de operación']\")\n",
    "    contrato_boton.click()\n",
    "    \n",
    "    # Seleccionar el tipo de contrato (Venta, Arriendo, Arriendo Temporal)\n",
    "    driver.find_element(By.XPATH, f\"//span[contains(text(), '{op_contrato.capitalize()}')]\").click()\n",
    "\n",
    "    # Filtrar por tipo de inmueble\n",
    "    inmueble_boton = driver.find_element(By.XPATH, \"//button[@aria-label='Tipo de propiedad']\")\n",
    "    inmueble_boton.click()\n",
    "    \n",
    "    # Seleccionar el tipo de inmueble (Departamento, Casa, Oficina)\n",
    "    driver.find_element(By.XPATH, f\"//span[contains(text(), '{op_inmueble.capitalize()}')]\").click()\n",
    "\n",
    "    # Filtrar por comuna y buscar\n",
    "    comuna_input = driver.find_element(By.XPATH, \"//input[@placeholder='Ingresa comuna o ciudad']\")\n",
    "    comuna_input.send_keys(ubicacion_inmueble)\n",
    "    time.sleep(2)\n",
    "    comuna_input.send_keys(Keys.ENTER)\n",
    "\n",
    "    # Clic en botón buscar con espera de tiempo\n",
    "    boton_buscar = WebDriverWait(driver, 10).until(\n",
    "        EC.element_to_be_clickable((By.XPATH, \"//span[@class='andes-button__content' and contains(text(), 'Buscar')]\"))\n",
    "    )\n",
    "    boton_buscar.click()\n",
    "    \n",
    "except Exception as e:\n",
    "    print(\"Error durante la interacción\", e)"
   ]
  }
 ],
 "metadata": {
  "kernelspec": {
   "display_name": "webscraping-api-bd",
   "language": "python",
   "name": "python3"
  },
  "language_info": {
   "codemirror_mode": {
    "name": "ipython",
    "version": 3
   },
   "file_extension": ".py",
   "mimetype": "text/x-python",
   "name": "python",
   "nbconvert_exporter": "python",
   "pygments_lexer": "ipython3",
   "version": "3.10.16"
  }
 },
 "nbformat": 4,
 "nbformat_minor": 2
}
